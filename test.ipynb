{
 "cells": [
  {
   "cell_type": "code",
   "execution_count": 1,
   "metadata": {},
   "outputs": [
    {
     "ename": "ModuleNotFoundError",
     "evalue": "No module named 'pytest'",
     "output_type": "error",
     "traceback": [
      "\u001b[0;31m---------------------------------------------------------------------------\u001b[0m",
      "\u001b[0;31mModuleNotFoundError\u001b[0m                       Traceback (most recent call last)",
      "Cell \u001b[0;32mIn[1], line 1\u001b[0m\n\u001b[0;32m----> 1\u001b[0m \u001b[38;5;28;01mimport\u001b[39;00m \u001b[38;5;21;01mpytest\u001b[39;00m\n\u001b[1;32m      2\u001b[0m \u001b[38;5;28;01mimport\u001b[39;00m \u001b[38;5;21;01masyncio\u001b[39;00m\n\u001b[1;32m      3\u001b[0m \u001b[38;5;28;01mfrom\u001b[39;00m \u001b[38;5;21;01mhttpx\u001b[39;00m \u001b[38;5;28;01mimport\u001b[39;00m AsyncClient\n",
      "\u001b[0;31mModuleNotFoundError\u001b[0m: No module named 'pytest'"
     ]
    }
   ],
   "source": [
    "import pytest\n",
    "import asyncio\n",
    "from httpx import AsyncClient\n",
    "\n",
    "@pytest.mark.asyncio\n",
    "async def test_concurrent_requests():\n",
    "    async with AsyncClient(app=app, base_url=\"http://localhost:8008\") as client:\n",
    "        # Список для хранения всех отправленных запросов\n",
    "        requests = []\n",
    "\n",
    "        # Отправляем 100 запросов асинхронно\n",
    "        for _ in range(100):\n",
    "            # Создаем корутину для отправки запроса и добавляем ее в список\n",
    "            request_coroutine = client.post(\"/llm\", json={\"user_id\": 123, \"question_string\": \"Test question\"})\n",
    "            requests.append(request_coroutine)\n",
    "\n",
    "        # Ожидаем завершения всех запросов\n",
    "        responses = await asyncio.gather(*requests)\n",
    "\n",
    "        # Проверяем статус-коды всех ответов\n",
    "        for response in responses:\n",
    "            assert response.status_code == 200\n"
   ]
  },
  {
   "cell_type": "markdown",
   "metadata": {},
   "source": [
    "# генерация ключей"
   ]
  },
  {
   "cell_type": "code",
   "execution_count": 25,
   "metadata": {},
   "outputs": [
    {
     "data": {
      "text/plain": [
       "'716beeee49e8981b54619f960579f798f40dba42e1cf88260a77ddee6ae7b94f'"
      ]
     },
     "execution_count": 25,
     "metadata": {},
     "output_type": "execute_result"
    }
   ],
   "source": [
    "import secrets\n",
    "\n",
    "# Генерация случайного ключа\n",
    "def generate_api_key():\n",
    "    # Генерация случайной строки из символов шестнадцатеричного формата\n",
    "    api_key = secrets.token_hex(32)  # Вы можете выбрать любую длину ключа, 32 байта (64 символа шестнадцатеричного формата) в данном случае\n",
    "    return api_key\n",
    "\n",
    "# Генерация API ключа\n",
    "api_key = generate_api_key()\n",
    "api_key"
   ]
  },
  {
   "cell_type": "markdown",
   "metadata": {},
   "source": [
    "# POST"
   ]
  },
  {
   "cell_type": "code",
   "execution_count": 4,
   "metadata": {},
   "outputs": [
    {
     "data": {
      "text/plain": [
       "{'user_id': 1050,\n",
       " 'date': '2024-02-07',\n",
       " 'time': '10:13:02',\n",
       " 'client_ip': '127.0.0.1',\n",
       " 'ai_response': 'Я могу помочь вам в различных областях, таких как математика, физика, химия, история, литература, география, английский язык, французский язык, испанский язык, немецкий язык, китайский язык, японский язык, программирование, компьютерные науки, технологии, экономика, финансы, маркетинг, психология, медицина, юриспруденция, право, политика, международные отношения, управление, предпринимательство, проектирование, инженерия, архитектура, дизайн, искусство, музыка, спорт, фитнес, здоровье, питание, кулинария, рецепты, домашнее хозяйство, ремонт, строительство, автомобили, мотоциклы, велосипеды, мотороллеты, катание на роликах, катание на колясках, катание на снегоходе, катание на лыжах, катание на сноуборде, катание на горнолыжных дорогах, катание на катере, катание на парусниках, катание на яхтах, катание на каноэ, катание на байдарках, катание на каяках, катание на лодках, катание на каяках, катание на каяках, катание на велосипедах, катание на велосипедах, катания на велосипедах, катание на велоципедах, катание на велосипедах.',\n",
       " 'response_time': 20.74}"
      ]
     },
     "execution_count": 4,
     "metadata": {},
     "output_type": "execute_result"
    }
   ],
   "source": [
    "import requests\n",
    "import json\n",
    "\n",
    "URL = \"http://localhost:8008/llm\"\n",
    "POST_JSON = {\n",
    "    \"user_id\": 1050,\n",
    "    \"question_string\": \"Чем ты можешь быть мне полезен?\"\n",
    "}\n",
    "r = requests.post(\n",
    "    url=URL,\n",
    "    headers={\n",
    "        \"Content-Type\": \"application/json\",\n",
    "        \"API\": \"131e12aa46252f4da6920dd2feccc94978688eab3a96337ba4b67a945eac1308\"\n",
    "    },\n",
    "    json=POST_JSON\n",
    ")\n",
    "\n",
    "response = r.json()\n",
    "response"
   ]
  },
  {
   "cell_type": "markdown",
   "metadata": {},
   "source": [
    "# отладка чат-бота"
   ]
  },
  {
   "cell_type": "code",
   "execution_count": 2,
   "metadata": {},
   "outputs": [
    {
     "name": "stdout",
     "output_type": "stream",
     "text": [
      "Применяю датасет по умолчаюнию: ./SOURCE_DOCUMENTS/questions_stolot.csv\n",
      "Датасет успешно загружен\n",
      "Загрузка модели для эмбеддингов: SUCCESS\n",
      "Подключение к векторной БД: SUCCESS\n",
      "Создание коллекции book: SUCCESS\n",
      "Загружаю данные в векторную БД...\n",
      "Загрузка данных в векторную БД: SUCCESS\n",
      "Подключение к векторной БД: SUCCESS\n"
     ]
    }
   ],
   "source": [
    "from lib.vector_db_setup import get_texts, upload_to_vectorstore, vectorstore_query, get_chroma_client\n",
    "import chromadb\n",
    "from chromadb.config import Settings\n",
    "\n",
    "texts = get_texts()\n",
    "\n",
    "upload_to_vectorstore(texts, collection_name='book')\n",
    "\n",
    "# Подключаемся к векторному хранилищу\n",
    "chroma_client = get_chroma_client()\n",
    "# Получаем коллекцию\n",
    "collection = chroma_client.get_collection('book')"
   ]
  },
  {
   "cell_type": "code",
   "execution_count": 4,
   "metadata": {},
   "outputs": [
    {
     "name": "stdout",
     "output_type": "stream",
     "text": [
      "============ QUESTION: ============\n",
      "Почему я не могу купить билет?\n",
      "============ VECTOR DB RESPONSE: ============\n",
      "Возможно, Вы исчерпали ежемесячные лимиты по Кошельку. Вам необходимо пройти идентификацию на сайте Столото или ожидать первого числа нового месяца, когда лимиты обновятся.\n"
     ]
    }
   ],
   "source": [
    "question = 'Почему я не могу купить билет?'\n",
    "vector_db_response = vectorstore_query(\n",
    "    collection,\n",
    "    question = question,\n",
    "    n_results=3\n",
    ")\n",
    "\n",
    "print(f'============ QUESTION: ============\\n{question}')\n",
    "print(f'============ VECTOR DB RESPONSE: ============\\n{vector_db_response}')"
   ]
  },
  {
   "cell_type": "markdown",
   "metadata": {},
   "source": [
    "# llm"
   ]
  },
  {
   "cell_type": "code",
   "execution_count": 5,
   "metadata": {},
   "outputs": [
    {
     "name": "stdout",
     "output_type": "stream",
     "text": [
      "Подключение к векторной БД: SUCCESS\n"
     ]
    }
   ],
   "source": [
    "# Подключаемся к векторному хранилищу\n",
    "chroma_client = get_chroma_client()\n",
    "# Получаем коллекцию\n",
    "collection = chroma_client.get_collection('book')"
   ]
  },
  {
   "cell_type": "code",
   "execution_count": 8,
   "metadata": {},
   "outputs": [
    {
     "name": "stderr",
     "output_type": "stream",
     "text": [
      "Special tokens have been added in the vocabulary, make sure the associated word embeddings are fine-tuned or trained.\n",
      "Special tokens have been added in the vocabulary, make sure the associated word embeddings are fine-tuned or trained.\n",
      "Special tokens have been added in the vocabulary, make sure the associated word embeddings are fine-tuned or trained.\n",
      "Special tokens have been added in the vocabulary, make sure the associated word embeddings are fine-tuned or trained.\n"
     ]
    }
   ],
   "source": [
    "from peft import PeftConfig\n",
    "from transformers import AutoTokenizer\n",
    "from lib.llm_setup import initialize_model, generate_llm_response\n",
    "\n",
    "lora_adapter = \"IlyaGusev/saiga_mistral_7b\"\n",
    "config = PeftConfig.from_pretrained(lora_adapter)\n",
    "base_model = config.base_model_name_or_path\n",
    "\n",
    "# Настройка токенизатора\n",
    "tokenizer = AutoTokenizer.from_pretrained(base_model)\n",
    "tokenizer.bos_token = \"<s>\"\n",
    "tokenizer.eos_token = \"</s>\"\n",
    "tokenizer.pad_token = tokenizer.eos_token\n",
    "tokenizer.padding_side = 'right' # ???\n",
    "\n",
    "model = initialize_model(\n",
    "    base_model=base_model,\n",
    "    lora_adapter=lora_adapter\n",
    ")"
   ]
  },
  {
   "cell_type": "code",
   "execution_count": null,
   "metadata": {},
   "outputs": [],
   "source": [
    "question = 'Почему я не могу купить билет?'\n",
    "\n",
    "output_message = generate_llm_response(\n",
    "    question=question,\n",
    "    model=model,\n",
    "    collection=collection,\n",
    "    tokenizer=tokenizer\n",
    ")"
   ]
  }
 ],
 "metadata": {
  "kernelspec": {
   "display_name": ".venv",
   "language": "python",
   "name": "python3"
  },
  "language_info": {
   "codemirror_mode": {
    "name": "ipython",
    "version": 3
   },
   "file_extension": ".py",
   "mimetype": "text/x-python",
   "name": "python",
   "nbconvert_exporter": "python",
   "pygments_lexer": "ipython3",
   "version": "3.10.13"
  }
 },
 "nbformat": 4,
 "nbformat_minor": 2
}
