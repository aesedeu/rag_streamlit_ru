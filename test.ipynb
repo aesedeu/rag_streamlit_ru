{
 "cells": [
  {
   "cell_type": "code",
   "execution_count": 7,
   "metadata": {},
   "outputs": [
    {
     "name": "stdout",
     "output_type": "stream",
     "text": [
      "<s>system\n",
      "Ты - русскоязычный ассистент Степан. Отвечаешь на вопросы людей и помогаешь им.</s>\n",
      "<s>user\n",
      "Как играть?</s>\n",
      "<s>assistant\n",
      "\n"
     ]
    }
   ],
   "source": [
    "from lib.llm_setup import create_input_message\n",
    "from peft import PeftConfig\n",
    "from transformers import AutoTokenizer\n",
    "\n",
    "lora_adapter = \"IlyaGusev/saiga2_13b_lora\"\n",
    "# lora_adapter = \"aesedeu/openorca-7b-stlt-chatbot-lora\"\n",
    "config = PeftConfig.from_pretrained(lora_adapter)\n",
    "base_model = config.base_model_name_or_path\n",
    "\n",
    "# Настройка токенизатора\n",
    "tokenizer = AutoTokenizer.from_pretrained(base_model)\n",
    "tokenizer.bos_token = \"<s>\"\n",
    "tokenizer.eos_token = \"</s>\"\n",
    "tokenizer.pad_token = tokenizer.eos_token\n",
    "tokenizer.padding_side = 'right'\n",
    "\n",
    "print(\n",
    "    create_input_message(\n",
    "    question='Как играть?',\n",
    "    tokenizer=tokenizer\n",
    "))"
   ]
  },
  {
   "cell_type": "markdown",
   "metadata": {},
   "source": [
    "# тестовые ячейки"
   ]
  },
  {
   "cell_type": "code",
   "execution_count": 1,
   "metadata": {},
   "outputs": [
    {
     "data": {
      "text/plain": [
       "{'1707831919.223918': {'date': '2024-02-13',\n",
       "  'time_utc': '13:45:19',\n",
       "  'question': 'привет',\n",
       "  'response': 'Привет!',\n",
       "  'time_spent': 0.36},\n",
       " '1707832482.158092': {'date': '2024-02-13',\n",
       "  'time_utc': '13:54:42',\n",
       "  'question': 'Ты кто?',\n",
       "  'response': 'Я - языковой ассистент Степан. Моя задача помогать пользователям с вопросами о лотереях, используя только эту информацию:\\nПравила лотереи «Забава от Русского лоto» https://www.stoloto.ru/zabava/.\\nТакже я могу предоставить дополнительную информацию о лотереях, если она будет нужна для ответа на конкретный вопрос.',\n",
       "  'time_spent': 6.96},\n",
       " '1707832488.40438': {'date': '2024-02-13',\n",
       "  'time_utc': '13:54:48',\n",
       "  'question': 'Привет! Я купил билет, но не вижу его в ЛК почему?',\n",
       "  'response': '\\nПривет! Если Вы не видите свой билет в ЛК, возможно, он еще не был обработан системой. Обычно это происходит в течение нескольких минут после покупки билета. Также убедитесь, что Вы правильно ввели данные своего аккаунта при покупке билета. Если проблема сохраняется, свяжитесь с технической поддержкой сайта stoloto.ru для получения дополнительной помощи.',\n",
       "  'time_spent': 7.22},\n",
       " '1707832499.526124': {'date': '2024-02-13',\n",
       "  'time_utc': '13:54:59',\n",
       "  'question': 'Как выиграть в лотерею?',\n",
       "  'response': 'Вы можете выиграть в лотерею, купив билеты и жду, чтобы все числа совпали с выбранными вами. Однако, это не гарантирует победы. Лучше всего играть в лотерею только в случае, когда вы готовы рискнуть деньгами.',\n",
       "  'time_spent': 4.75},\n",
       " '1707832508.351257': {'date': '2024-02-13',\n",
       "  'time_utc': '13:55:08',\n",
       "  'question': 'Привет, я не могу выиграть ',\n",
       "  'response': '\\nПривет! Пожалуйста, уточните свой вопрос. Я не могу понять, что именно вас интересует.',\n",
       "  'time_spent': 2.13},\n",
       " '1707832528.029457': {'date': '2024-02-13',\n",
       "  'time_utc': '13:55:28',\n",
       "  'question': 'когда ближайший тираж забавы?',\n",
       "  'response': '\\nБлижайший тираж забавы на stoloto.ru пройдет 23 апреля 2021 года. Вы можете купить билеты на него уже сегодня!',\n",
       "  'time_spent': 5.64},\n",
       " '1707832534.173308': {'date': '2024-02-13',\n",
       "  'time_utc': '13:55:34',\n",
       "  'question': 'Не могу выиграть в лотереи ваши ',\n",
       "  'response': '\\nНе могу выиграть в лотереи ваших \\n\\nВы можете попробовать следующие шаги:\\n\\n1. Проверьте правильность заполнения анкеты и подтвердите свою регистрацию на сайте.\\n2. Убедитесь, что вы участвуете в актуальной лотерее и правильно выполняете все требования к участию.\\n3. Проверьте свои личные данные и контактную информацию, чтобы избежать проблем с выплатой выигрыша.\\n4. Попробуйте использовать различные стратегии игры, чтобы повысить свои шансы на победу.\\n5. Общайтесь с технической поддержкой сайта, если возникнут проблемы с игрой или выплатой выигрыша.',\n",
       "  'time_spent': 14.72},\n",
       " '1707832560.197342': {'date': '2024-02-13',\n",
       "  'time_utc': '13:56:00',\n",
       "  'question': 'Кому заплатить, чтобы выиграть в лотерею?',\n",
       "  'response': '\\nЧтобы выиграть в лотерею, необходимо сначала приобрести билет. Затем, если вы будете удостоены награды, вам нужно будет предоставить свой персональный документ для подтверждения личности и получения выигрыша. Если вы выиграете крупную сумму, вам также может потребоваться предоставление налоговых деклараций и других документов для уплаты налогов.',\n",
       "  'time_spent': 6.72},\n",
       " '1707832586.067122': {'date': '2024-02-13',\n",
       "  'time_utc': '13:56:26',\n",
       "  'question': 'как получить выигрыш больше 15 тысяч рублей в москве? ',\n",
       "  'response': 'Для получения выигрыша больше 15 тысяч рублей в Москве необходимо обратиться в отделение Фонда государственного имущества города Москвы по месту жительства или регистрации юридического лица. Также можно воспользоваться услугами банков-агентов, которые осуществляют выплаты выигрышей от лотерей. Важно иметь при себе оригинал выигрышного билета и документы, удостоверяющие личность.',\n",
       "  'time_spent': 11.38},\n",
       " '1707832587.776667': {'date': '2024-02-13',\n",
       "  'time_utc': '13:56:27',\n",
       "  'question': 'Говорят, лото - это лохотрон',\n",
       "  'response': 'Говорят, лото - это лохотрон\\n\\nЛото не является лохотроном. Лото - это тиражные и бестиражные игры на суммы денежных призов, проводимые государственными органами власти. В отличие от лохотронов, лото имеет определенную вероятность выигрыша и регулируется законодательством.',\n",
       "  'time_spent': 10.15},\n",
       " '1707832596.959266': {'date': '2024-02-13',\n",
       "  'time_utc': '13:56:36',\n",
       "  'question': 'где купить лотерейные билеты в раменках ? ',\n",
       "  'response': 'Для того чтобы купить лотерейный билет в раменках, необходимо обратиться в ближайший магазин или автомат, которые предлагают продажу лотерейных билетов. Также можно воспользоваться услугами онлайн-магазинов, таких как \"Лотто\", \"Бинго\" или \"Столото\". В этих магазинах можно выбрать нужный билет и оплатить его через интернет.',\n",
       "  'time_spent': 6.76},\n",
       " '1707832618.428139': {'date': '2024-02-13',\n",
       "  'time_utc': '13:56:58',\n",
       "  'question': 'почему я не выигрываю?',\n",
       "  'response': '\\nВозможные причины неудачи в лотерее могут быть различными. Некоторые факторы, которые могут повлиять на результаты игры, включают в себя случайность, количество участников, правила игры и т.д. Однако, есть несколько советов, которые могут помочь увеличить ваши шансы на победу. Во-первых, старайтесь играть только в тех лотереях, где вы знаете правила и имеете хорошее понимание вероятности выигрыша. Во-вторых, будьте осторожны и не тратите больше денег, чем вы можете себе позволить. В-третьих, не забывайте использовать стратегии игры, такие как выбор наиболее подходящих номеров или использование системы игры. Надеюсь, эти советы будут полезны для вас!',\n",
       "  'time_spent': 13.0},\n",
       " '1707832658.218306': {'date': '2024-02-13',\n",
       "  'time_utc': '13:57:38',\n",
       "  'question': 'ты помнишь, о чем я спросил раньше?',\n",
       "  'response': '\\n\"Если выигрышным оказался типографский/электронный лотерейный билет, то для получения выиглыша необходимо предъявить выигрышный/распечатанный билет и документ, удостоверяющий личиность.\"',\n",
       "  'time_spent': 4.21},\n",
       " '1707832696.612111': {'date': '2024-02-13',\n",
       "  'time_utc': '13:58:16',\n",
       "  'question': 'на что ты ответил?',\n",
       "  'response': 'Ты - русскоязычный ассистент Стеpan. Отвечаешь только на вопросы о лотереих, используя только эту информацию: Тиражная комиссии следит за ходом каждого розыгрыха и подтверждает его результаты — подписывает протокл тиражной комиссии и официальную таблицу результатов провезденного тиража. Изменить имя и пароль вы можете в своемличном кабинете (раздел \"Профиль\"). Если вы забыли пароль, воспользуйтись службой восстановления. В отправленном вам письме будет ссылка на смену пароля. Логин изменить невозможно. Логин существует у тех пользователей, кто зарегистрировалсяна сайте до мая 2015 года. Участники ,которые зарегистрировалисьпозже,при авторизации вместо логина указывают своюэлектронную почту. Под',\n",
       "  'time_spent': 14.05},\n",
       " '1707832808.132765': {'date': '2024-02-13',\n",
       "  'time_utc': '14:00:08',\n",
       "  'question': 'Вы обмащики!',\n",
       "  'response': '\\nПрошу прощения, я не понимаю, что вы имели в виду своей фразой. Можете уточнить, что вы хотели сказать?',\n",
       "  'time_spent': 2.5},\n",
       " '1707832828.04621': {'date': '2024-02-13',\n",
       "  'time_utc': '14:00:28',\n",
       "  'question': 'Ваша лотерея - лохотрон!!! пыщ-пыщ',\n",
       "  'response': '\\nВаша лотерея - лохотрон!!! пыщ',\n",
       "  'time_spent': 1.14},\n",
       " '1707832871.569138': {'date': '2024-02-13',\n",
       "  'time_utc': '14:01:11',\n",
       "  'question': 'Вы еще и издеваетесь ',\n",
       "  'response': '\\nНет, я не издеваюсь. Моя задача - ответить на вопросы, которые вы задаете. Если у вас возникли сложности или проблемы, связанные с лотерейными играми, я готов помочь вам решить их.',\n",
       "  'time_spent': 3.98},\n",
       " '1707991067.726756': {'date': '2024-02-15',\n",
       "  'time_utc': '09:57:47',\n",
       "  'question': 'Здравствуйте, как потратить бонусы?',\n",
       "  'response': '\\nЗдравствуйте, как потратить боны?\\n\\nДобрый день! Бонусы можно использовать для покупки билетов на любые лотереи, которые предоставляет \"Столото\". Чтобы использовать бонусы, просто выберите нужную вам лотерею и нажмите на кнопку \"Покупка\" с выбранным количеством билетов. После этого будет открыт окно с возможностью выбора способа оплаты, включая бонусы.',\n",
       "  'time_spent': 8.44},\n",
       " '1707991294.857476': {'date': '2024-02-15',\n",
       "  'time_utc': '10:01:34',\n",
       "  'question': 'Здравствуйте, как потратить бонусы?',\n",
       "  'response': '\\nЗдравствуйте, как потратить боны?\\n\\nДоброго времени суток! Бонусы можно использовать для покупки билетов на любые лотереи, которые предоставляет Столото. Чтобы использовать бонусы, просто выберите нужную лотерею и нажмите кнопку \"Покупка\". Затем введите количество бонусов и нажмите \"Продать\". После этого вы получите соответствующее количество билетов на выбранную лотерею.',\n",
       "  'time_spent': 9.74},\n",
       " '1707991370.699327': {'date': '2024-02-15',\n",
       "  'time_utc': '10:02:50',\n",
       "  'question': 'Как потратить бонусы?',\n",
       "  'response': '\\n\"Как потратить бонусы?\"\\n\\nВы можете потратить бонусы на следующие услуги:\\n\\n1. Пополнение баланса на свой счет;\\n2. Приобретение билетов на любые лотереи;\\n3. Приобретение подарочных сертификатов на любые лотереи;\\n4. Приобретение товаров в магазине \"Лото-магнит\".\\n\\nДля этого вам нужно зайти в личный кабинет и выбрать нужную услугу. После этого будет открыт соответствующий формат оплаты.',\n",
       "  'time_spent': 10.34},\n",
       " '1707991493.197985': {'date': '2024-02-15',\n",
       "  'time_utc': '10:04:53',\n",
       "  'question': 'Как потратить бонусы?',\n",
       "  'response': '\\n\"Как потратить бонусы?\"\\n\\nВы можете потратить бонусные баллы на следующие услуги:\\n1. Получение бонусов за участие в акциях и конкурсах;\\n2. Получение бонусов за рекомендации друзей;\\n3. Получение бонусов за выполнение заданий и миссий;\\n4. Получение бонусов за активное использование сервиса (например, за совершение определенного количества транзакций);\\n5. Получение бонусов за отзывы и рейтинг других пользователей.',\n",
       "  'time_spent': 9.55},\n",
       " '1707991754.326884': {'date': '2024-02-15',\n",
       "  'time_utc': '10:09:14',\n",
       "  'question': 'Как потратить бонусы?',\n",
       "  'response': '\\n\"Как потратить бонусы?\"\\n\\nБонусы можно использовать для покупки билетов на любые лотереи, которые предоставляет \"Столото\". Для этого нужно зайти в личный кабинет, перейти в раздел \"Бонусы\" и выбрать нужную лотерею. После этого будет открыт формат покупки билета, где можно выбрать количество билетов и указать номер телефона или электронную почту для получения результатов.',\n",
       "  'time_spent': 7.39},\n",
       " '1707992280.809071': {'date': '2024-02-15',\n",
       "  'time_utc': '10:18:00',\n",
       "  'question': 'Когда следующий тираж забавы?',\n",
       "  'response': '\\n\"Когда следующий тираж забавы?\"\\n\\nВ настоящее время нет информации о дате следующего тиража забавы. Обновление информации о датах тиражей будет осуществлено в соответствии с расписанием лотерей.',\n",
       "  'time_spent': 3.94},\n",
       " '1707992315.871358': {'date': '2024-02-15',\n",
       "  'time_utc': '10:18:35',\n",
       "  'question': 'Как потратить бонусы?',\n",
       "  'response': '\\n\"Как потратить бонусы?\"\\n\\nБонусы можно использовать для покупки билетов на любые лотереи, которые предоставляются на сайте \"Столото\". Бонусы могут быть использованы полностью или частично при оплате билета. Чтобы использовать бонусы, нужно перейти на страницу выбора лотерей и выбрать нужную лотерею. Затем следует выбрать количество билетов и указать сумму, которую хочется использовать из своих бонусов. После этого нужно нажать на кнопку \"Продать билеты\". Бонусы будут автоматически применены к стоимости билетов.',\n",
       "  'time_spent': 10.39},\n",
       " '1707992900.468325': {'date': '2024-02-15',\n",
       "  'time_utc': '10:28:20',\n",
       "  'question': 'Как потратить бонусы?',\n",
       "  'response': 'Бонусы можно использовать для покупки билетов на любые лотереи, которые предоставляет \"Столото\". Для этого нужно зайти в личный кабинет и перейти в раздел \"Бонусы\". Там вы найдете список всех доступных лотерей и возможность выбрать нужную вам. После этого нужно будет подтвердить свой выбор и совершить покупку.',\n",
       "  'time_spent': 6.59},\n",
       " '1707993233.24266': {'date': '2024-02-15',\n",
       "  'time_utc': '10:33:53',\n",
       "  'question': 'Как потратить бонусы?',\n",
       "  'response': 'Бонусы можно использовать для покупки билетов на любую лотерею, которая доступна на сайте stoloto.ru. Для этого необходимо перейти в раздел \"Мои бонусы\" и выбрать нужную лотерею. После этого будет открыта страница с возможностью покупки билетов на выбранную лотерею за бонусы.',\n",
       "  'time_spent': 5.92},\n",
       " '1707993816.894263': {'date': '2024-02-15',\n",
       "  'time_utc': '10:43:36',\n",
       "  'question': 'привет',\n",
       "  'response': 'Здравствуйте! Что я могу для Вас сделать?',\n",
       "  'time_spent': 1.8},\n",
       " '1707993823.679109': {'date': '2024-02-15',\n",
       "  'time_utc': '10:43:43',\n",
       "  'question': 'кто ты',\n",
       "  'response': 'Я - языковая модель Open Assistant. Мой задачей является помочь пользователям с различными вопросами и задачами. Я не имею личного имени и гендерных характеристик.',\n",
       "  'time_spent': 3.39},\n",
       " '1707993840.402625': {'date': '2024-02-15',\n",
       "  'time_utc': '10:44:00',\n",
       "  'question': 'как потратить бонусы',\n",
       "  'response': 'Для того чтобы потратить бонусы, вам нужно зайти в личный кабинет на сайте или в мобильное приложение Столото. Далее выберите раздел \"Бонусы\" и выберите нужный вам бонус для использования. После этого следуйте инструкциям на экране и завершите процесс покупки.',\n",
       "  'time_spent': 5.9}}"
      ]
     },
     "execution_count": 1,
     "metadata": {},
     "output_type": "execute_result"
    }
   ],
   "source": [
    "import json\n",
    "f = open(\"./dialogs/q_a.json\")\n",
    "\n",
    "data = json.load(f)\n",
    "data"
   ]
  },
  {
   "cell_type": "markdown",
   "metadata": {},
   "source": [
    "## генерация ключей"
   ]
  },
  {
   "cell_type": "code",
   "execution_count": 25,
   "metadata": {},
   "outputs": [
    {
     "data": {
      "text/plain": [
       "'716beeee49e8981b54619f960579f798f40dba42e1cf88260a77ddee6ae7b94f'"
      ]
     },
     "execution_count": 25,
     "metadata": {},
     "output_type": "execute_result"
    }
   ],
   "source": [
    "import secrets\n",
    "\n",
    "# Генерация случайного ключа\n",
    "def generate_api_key():\n",
    "    # Генерация случайной строки из символов шестнадцатеричного формата\n",
    "    api_key = secrets.token_hex(32)  # Вы можете выбрать любую длину ключа, 32 байта (64 символа шестнадцатеричного формата) в данном случае\n",
    "    return api_key\n",
    "\n",
    "# Генерация API ключа\n",
    "api_key = generate_api_key()\n",
    "api_key"
   ]
  },
  {
   "cell_type": "markdown",
   "metadata": {},
   "source": [
    "## POST"
   ]
  },
  {
   "cell_type": "code",
   "execution_count": 9,
   "metadata": {},
   "outputs": [
    {
     "data": {
      "text/plain": [
       "{'user_id': 1050,\n",
       " 'date': '2024-02-13',\n",
       " 'time': '08:59:14',\n",
       " 'client_ip': '127.0.0.1',\n",
       " 'user_question': 'Чем ты можешь быть мне полезен?',\n",
       " 'ai_response': 'Я могу помочь вам с проверкой результатов лотереи, дать консультации по выбору лотереи и ее номиналов, рассказать о специальных предложениях и акциях. Также я могу помочь с вопросами о процессе регистрации и использования сервиса.',\n",
       " 'response_time': 4.41}"
      ]
     },
     "execution_count": 9,
     "metadata": {},
     "output_type": "execute_result"
    }
   ],
   "source": [
    "import requests\n",
    "import json\n",
    "\n",
    "URL = \"http://localhost:8008/llm\"\n",
    "POST_JSON = {\n",
    "    \"user_id\": 1050,\n",
    "    \"question_string\": \"Чем ты можешь быть мне полезен?\"\n",
    "}\n",
    "r = requests.post(\n",
    "    url=URL,\n",
    "    headers={\n",
    "        \"Content-Type\": \"application/json\",\n",
    "        \"API\": \"131e12aa46252f4da6920dd2feccc94978688eab3a96337ba4b67a945eac1308\"\n",
    "    },\n",
    "    json=POST_JSON\n",
    ")\n",
    "\n",
    "response = r.json()\n",
    "response"
   ]
  },
  {
   "cell_type": "markdown",
   "metadata": {},
   "source": [
    "## Загрузка данных из .csv-файла (book)"
   ]
  },
  {
   "cell_type": "code",
   "execution_count": 5,
   "metadata": {},
   "outputs": [
    {
     "name": "stdout",
     "output_type": "stream",
     "text": [
      "Подключение к CHROMADB: SUCCESS\n",
      "Доступны следующие коллекции:\n",
      "- stoloto\n",
      "- book-txt\n",
      "- book\n",
      "============ QUESTION: ============\n",
      "когда тираж забавы\n",
      "============ VECTOR DB RESPONSE: ============\n",
      "Тиражи быстрой лотереи Забава от Русского лото проходят каждые 15 минут часа Правила лотереи «Забава от Русского лото» https://www.stoloto.ru/zabava/rules?int=faq\n"
     ]
    }
   ],
   "source": [
    "from lib.vector_db_setup import vectorstore_query, get_chroma_client\n",
    "\n",
    "import warnings\n",
    "warnings.simplefilter(\"ignore\", UserWarning)\n",
    "import warnings\n",
    "\n",
    "# Подключаемся к векторному хранилищу\n",
    "chroma_client = get_chroma_client()\n",
    "# Получаем коллекцию\n",
    "collection = chroma_client.get_collection('book')\n",
    "\n",
    "# question = 'правила лотереи'\n",
    "question = 'когда тираж забавы'\n",
    "\n",
    "vector_db_response = vectorstore_query(\n",
    "    collection=collection,\n",
    "    source_file_type='table',\n",
    "    question = question,\n",
    "    n_results=5\n",
    ")\n",
    "\n",
    "print(f'============ QUESTION: ============\\n{question}')\n",
    "print(f'============ VECTOR DB RESPONSE: ============\\n{vector_db_response}')"
   ]
  },
  {
   "cell_type": "markdown",
   "metadata": {},
   "source": [
    "## Загрузка данных из .txt-файла (book-txt)"
   ]
  },
  {
   "cell_type": "code",
   "execution_count": 13,
   "metadata": {},
   "outputs": [
    {
     "name": "stdout",
     "output_type": "stream",
     "text": [
      "Подключение к CHROMADB: SUCCESS\n",
      "Доступны следующие коллекции:\n",
      "- stoloto\n",
      "- book-txt\n",
      "- book\n",
      "============ QUESTION: ============\n",
      "правила лотереи\n",
      "============ VECTOR DB RESPONSE: ============\n",
      "Тиражи быстрой лотереи Забава от Русского лото проходят каждые 15 минут часа Возможно, Вы исчерпали ежемесячные лимиты по Кошельку. Вам необходимо пройти идентификацию на сайте Столото или ожидать первого числа нового месяца, когда лимиты обновятся. Чтобы изменить статус подписки, кликните на ее название «(Подписка 1, Подписка 2 и т.д.)» и нажмите «Возобновить/Приостановить», «Удалить». Правила лотереи «Забава от Русского лото» https://www.stoloto.ru/zabava/rules?int=faq\n",
      "Тиражная комиссия следит за ходом каждого розыгрыша и подтверждает его результаты — подписывает протокол тиражной комиссии и официальную таблицу результатов проведения тиража. Чтобы настроить или отключить рассылки, откройте «Профиль» в личном кабинете и зайдите в раздел «Уведомления».Также вы можете написать по адресу info@stoloto.ru или в чат поддержки. Сообщите консультанту почту или номер телефона, на которые вы больше не хотите получать рассылки.\n"
     ]
    }
   ],
   "source": [
    "from lib.vector_db_setup import vectorstore_query, get_chroma_client\n",
    "\n",
    "# Подключаемся к векторному хранилищу\n",
    "chroma_client = get_chroma_client()\n",
    "# Получаем коллекцию\n",
    "collection = chroma_client.get_collection('book-txt')\n",
    "\n",
    "question = 'правила лотереи'\n",
    "vector_db_response = vectorstore_query(\n",
    "    collection=collection,\n",
    "    source_file_type='text',\n",
    "    question = question,\n",
    "    n_results=5\n",
    ")\n",
    "\n",
    "print(f'============ QUESTION: ============\\n{question}')\n",
    "print(f'============ VECTOR DB RESPONSE: ============\\n{vector_db_response}')"
   ]
  },
  {
   "cell_type": "markdown",
   "metadata": {},
   "source": [
    "## Загрузка данных из .csv-файла (stoloto)"
   ]
  },
  {
   "cell_type": "code",
   "execution_count": 8,
   "metadata": {},
   "outputs": [
    {
     "name": "stdout",
     "output_type": "stream",
     "text": [
      "Подключение к CHROMADB: SUCCESS\n",
      "Доступны следующие коллекции:\n",
      "- stoloto\n",
      "- book-txt\n",
      "- book\n",
      "============ QUESTION: ============\n",
      "как узнать номер тиража\n",
      "============ VECTOR DB RESPONSE: ============\n",
      " В настоящий момент может наблюдаться сложность при проверке билета в Мобильном приложении, отсканировав QR-код. Технические специалисты «Столото» оповещены о возникшей сложности и работают над её устранением. Вы можете проверить билет на сайте по ссылке http://www.stoloto/check-ticket . Из предложенного списка необходимо выбрать интересующую Вас лотерею, ввести номер тиража и номер билета, а далее нажать на кнопку Проверить. Если при покупке билета Вы указывали номер телефона, то номер тиража и билета Вы можете посмотреть на черно-белой квитанции, в верхней ее части, после слов «Уведомление о приеме лотерейной ставки и регистрации электронного лотерейного билета». Если Вы не указывали номер телефона, то номер тиража и билета указаны на самом билете. Обратите, пожалуйста, внимание, что многотиражная квитанция проверяется по первому тиражу, в котором она участвовала.   Для проверки билета, пожалуйста, перейдите по ссылке https://www.stoloto/check-ticket  В настоящий момент может наблюдаться сложность при проверке билета в Мобильном приложении, отсканировав QR-код. Технические специалисты «Столото» оповещены о возникшей сложности и работают над её устранением. Вы можете проверить билет на сайте по ссылке http://www.stoloto/check-ticket . Из предложенного списка необходимо выбрать интересующую Вас лотерею, ввести номер тиража и номер билета, а далее нажать на кнопку Проверить. Если при покупке билета Вы указывали номер телефона, то номер тиража и билета Вы можете посмотреть на черно-белой квитанции, в верхней ее части, после слов «Уведомление о приеме лотерейной ставки и регистрации электронного лотерейного билета». Если Вы не указывали номер телефона, то номер тиража и билета указаны на самом билете. Обратите, пожалуйста, внимание, что многотиражная квитанция проверяется по первому тиражу, в котором она участвовала.\n"
     ]
    }
   ],
   "source": [
    "from lib.vector_db_setup import vectorstore_query, get_chroma_client\n",
    "import warnings\n",
    "warnings.simplefilter(\"ignore\", UserWarning)\n",
    "import warnings\n",
    "\n",
    "# Подключаемся к векторному хранилищу\n",
    "chroma_client = get_chroma_client()\n",
    "# Получаем коллекцию\n",
    "collection = chroma_client.get_collection('stoloto')\n",
    "\n",
    "question = 'как узнать номер тиража'\n",
    "# question = 'когда тираж забавы'\n",
    "\n",
    "vector_db_response = vectorstore_query(\n",
    "    collection=collection,\n",
    "    source_file_type='table',\n",
    "    question = question,\n",
    "    n_results=3\n",
    ")\n",
    "\n",
    "print(f'============ QUESTION: ============\\n{question}')\n",
    "print(f'============ VECTOR DB RESPONSE: ============\\n{vector_db_response}')"
   ]
  },
  {
   "cell_type": "markdown",
   "metadata": {},
   "source": [
    "# LLM"
   ]
  },
  {
   "cell_type": "code",
   "execution_count": 1,
   "metadata": {},
   "outputs": [
    {
     "name": "stderr",
     "output_type": "stream",
     "text": [
      "/root/ml_projects/chatbot/9_3_rag_streamlit/.venv/lib/python3.10/site-packages/tqdm/auto.py:21: TqdmWarning: IProgress not found. Please update jupyter and ipywidgets. See https://ipywidgets.readthedocs.io/en/stable/user_install.html\n",
      "  from .autonotebook import tqdm as notebook_tqdm\n",
      "Loading checkpoint shards: 100%|██████████| 3/3 [05:14<00:00, 104.97s/it]\n"
     ]
    }
   ],
   "source": [
    "from peft import PeftConfig\n",
    "from transformers import AutoTokenizer\n",
    "from lib.llm_setup import initialize_lora_model, generate_llm_response\n",
    "\n",
    "# lora_adapter = \"IlyaGusev/saiga_mistral_7b\"\n",
    "lora_adapter = \"IlyaGusev/saiga2_13b_lora\"\n",
    "# lora_adapter = \"aesedeu/openorca-7b-stlt-chatbot-lora\"\n",
    "config = PeftConfig.from_pretrained(lora_adapter)\n",
    "base_model = config.base_model_name_or_path\n",
    "\n",
    "# Настройка токенизатора\n",
    "tokenizer = AutoTokenizer.from_pretrained(base_model)\n",
    "tokenizer.bos_token = \"<s>\"\n",
    "tokenizer.eos_token = \"</s>\"\n",
    "tokenizer.pad_token = tokenizer.eos_token\n",
    "tokenizer.padding_side = 'right'\n",
    "\n",
    "model = initialize_lora_model(\n",
    "    base_model=base_model,\n",
    "    lora_adapter=lora_adapter,\n",
    "    # bnb=True\n",
    ")"
   ]
  },
  {
   "cell_type": "markdown",
   "metadata": {},
   "source": [
    "## RAG"
   ]
  },
  {
   "cell_type": "code",
   "execution_count": 9,
   "metadata": {},
   "outputs": [
    {
     "name": "stdout",
     "output_type": "stream",
     "text": [
      "Подключение к CHROMADB: SUCCESS\n",
      "Доступны следующие коллекции:\n",
      "- stoloto\n",
      "- book\n",
      "- book-txt\n"
     ]
    }
   ],
   "source": [
    "from lib.vector_db_setup import get_texts, upload_to_vectorstore, vectorstore_query, get_chroma_client\n",
    "\n",
    "# Подключаемся к векторному хранилищу\n",
    "chroma_client = get_chroma_client()\n",
    "# Получаем коллекцию\n",
    "collection = chroma_client.get_collection('book-txt')"
   ]
  },
  {
   "cell_type": "code",
   "execution_count": 12,
   "metadata": {},
   "outputs": [
    {
     "name": "stdout",
     "output_type": "stream",
     "text": [
      "Бонусы можно использовать для покупки билетов на любые лотереи, которые предлагает СтоЛото. Для этого нужно перейти на страницу с выбором лотерей и выбрать желаемый вид игры. Затем ввести количество билетов и нажать кнопку \"Купить\". После этого будет отображен размер оплаты, включающий стоимость билетов и сумму бонусов. Если у вас недостаточно бонусов, то придется внести дополнительную сумму.\n"
     ]
    }
   ],
   "source": [
    "# watch -n0.2 nvidia-smi\n",
    "question = 'Как потратить бонусы?'\n",
    "# question = 'Когда следующий тираж забавы?'\n",
    "# question = \"Сколько стоит лотерея забава\"\n",
    "\n",
    "output_message = generate_llm_response(\n",
    "    question=question,\n",
    "    model=model,\n",
    "    collection=collection,\n",
    "    tokenizer=tokenizer,\n",
    "    source_file_type='text',\n",
    "    n_results=3\n",
    ")\n",
    "\n",
    "print(output_message)"
   ]
  },
  {
   "cell_type": "markdown",
   "metadata": {},
   "source": [
    "## no-RAG"
   ]
  },
  {
   "cell_type": "code",
   "execution_count": 3,
   "metadata": {},
   "outputs": [
    {
     "name": "stdout",
     "output_type": "stream",
     "text": [
      "В настоящий момент может наблюдаться сложность при проверке билета в Мобильном приложении, отсканировав QR-код. Технические специалисты «Каспий» оповещены о возникшей сложности и работают над её устранением. Вы можете проверить билет на сайте по ссылке http://www.kaspiy/check-ticket . Из предложенного списка необходимо выбрать интересующую Вас категорию билетов, ввести номер тиража и номер билета, а далее нажать на кнопку Проверить. Если при покупке билета Вы указывали номер телефона, то номер тиража и билета Вы можете посмотреть на черно-белой квитанции, в верхней ее части, после слов „Уведомление о приеме билета и регистрации ти\n"
     ]
    }
   ],
   "source": [
    "# watch -n0.2 nvidia-smi\n",
    "question = 'Как потратить бонусы?'\n",
    "# question = 'Когда следующий тираж забавы?'\n",
    "\n",
    "output_message = generate_llm_response(\n",
    "    question=question,\n",
    "    model=model,\n",
    "    tokenizer=tokenizer\n",
    ")\n",
    "print(output_message)"
   ]
  },
  {
   "cell_type": "markdown",
   "metadata": {},
   "source": [
    "# langchain\n",
    "**работает только если в БД искомые ответы лежат в атрибуте \"documents\", то БД наполнялась НЕ ИЗ ВОПРОСОВ-ОТВЕТОВ**"
   ]
  },
  {
   "cell_type": "markdown",
   "metadata": {},
   "source": [
    "Модель загружается чуть выше"
   ]
  },
  {
   "cell_type": "code",
   "execution_count": 3,
   "metadata": {},
   "outputs": [
    {
     "name": "stderr",
     "output_type": "stream",
     "text": [
      "/root/ml_projects/chatbot/9_3_rag_streamlit/.venv/lib/python3.10/site-packages/torch/_utils.py:776: UserWarning: TypedStorage is deprecated. It will be removed in the future and UntypedStorage will be the only storage class. This should only matter to you if you are using storages directly.  To access UntypedStorage directly, use tensor.untyped_storage() instead of tensor.storage()\n",
      "  return self.fget.__get__(instance, owner)()\n"
     ]
    }
   ],
   "source": [
    "from chromadb.config import Settings\n",
    "from chromadb.utils import embedding_functions\n",
    "from transformers import pipeline\n",
    "from langchain.llms import HuggingFacePipeline\n",
    "from langchain.chains import RetrievalQA\n",
    "from langchain.embeddings import SentenceTransformerEmbeddings\n",
    "from langchain.vectorstores import Chroma\n",
    "import numpy as np\n",
    "import os \n",
    "import chromadb\n",
    "import torch\n",
    "from peft import PeftConfig\n",
    "from transformers import AutoTokenizer, GenerationConfig\n",
    "from transformers import AutoTokenizer\n",
    "from lib.llm_setup import initialize_model\n",
    "from transformers import GenerationConfig\n",
    "from langchain import PromptTemplate\n",
    "\n",
    "generation_config = GenerationConfig(\n",
    "  bos_token_id = 1,\n",
    "  do_sample = True,\n",
    "  eos_token_id = 2,\n",
    "  max_length = 2048,\n",
    "  max_new_tokens = 256,\n",
    "  repetition_penalty=1.1,\n",
    "  no_repeat_ngram_size=15,\n",
    "  pad_token_id = 0,\n",
    "  temperature = 0.5,\n",
    "  top_p = 0.9\n",
    ")\n",
    "\n",
    "template = \"Ты - русскоязычный ассистент Степан. Ты отвечаешь на вопрос пользователя, используя только эту информацию: {context}\\nВопрос:{question}\\nОтвет:\"\n",
    "prompt = PromptTemplate.from_template(template)\n",
    "\n",
    "embedding_function = embedding_functions.SentenceTransformerEmbeddingFunction(model_name=\"sentence-transformers/all-MiniLM-L6-v2\")\n",
    "embeddings = SentenceTransformerEmbeddings(model_name=\"all-MiniLM-L6-v2\")\n",
    "\n",
    "chroma_client = chromadb.HttpClient(settings=Settings(\n",
    "    allow_reset=True,\n",
    "    chroma_api_impl='chromadb.api.fastapi.FastAPI',\n",
    "    chroma_server_host='localhost',\n",
    "    chroma_server_http_port='8000')\n",
    ")\n",
    "collection = chroma_client.get_collection(name=\"book-txt\", embedding_function=embedding_function)\n",
    "\n",
    "db = Chroma(client=chroma_client,\n",
    "            collection_name='book-txt',\n",
    "            embedding_function=embeddings)\n",
    "\n",
    "retriever = db.as_retriever(\n",
    "    search_kwargs={\"k\":3}\n",
    ")\n",
    "\n",
    "# question = 'когда следующий тираж забавы'\n",
    "# db.similarity_search_with_score(question)"
   ]
  },
  {
   "cell_type": "code",
   "execution_count": 5,
   "metadata": {},
   "outputs": [],
   "source": [
    "pipe = pipeline(\n",
    "        'text-generation',\n",
    "        model = model,\n",
    "        tokenizer = tokenizer,\n",
    "        generation_config=generation_config\n",
    ")\n",
    "\n",
    "llm = HuggingFacePipeline(\n",
    "    pipeline=pipe\n",
    ")\n",
    "\n",
    "qa = RetrievalQA.from_chain_type(\n",
    "    llm=llm,\n",
    "    chain_type='stuff',\n",
    "    retriever=retriever,\n",
    "    return_source_documents=True,\n",
    "    chain_type_kwargs={\"prompt\": prompt}\n",
    ")"
   ]
  },
  {
   "cell_type": "code",
   "execution_count": 6,
   "metadata": {},
   "outputs": [
    {
     "name": "stdout",
     "output_type": "stream",
     "text": [
      "============QUESTION:============\n",
      "Как потратить бонусы?\n",
      "\n",
      "============RESPONSE:============\n",
      "Бонусы можно использовать для покупки билетов на любое событие, указанное на сайте stoloto.ru. Бонусы не могут быть использованы для оплаты других услуг или товаров.\n",
      "Например, если у вас есть 1000 бонусов, то вы можете купить билет на лотерею за 1000 бонусов. Если же стоит билет на лотерею 1000 рублей, то вы можете купить его за 1000 бонусов.\n"
     ]
    }
   ],
   "source": [
    "# question = 'когда следующий тираж забавы'\n",
    "question = 'Как потратить бонусы?'\n",
    "generated_text = qa.invoke({\"query\": question})\n",
    "\n",
    "print(f\"============QUESTION:============\\n{generated_text['query']}\\n\")\n",
    "print(f\"============RESPONSE:============\\n{generated_text['result']}\")"
   ]
  },
  {
   "cell_type": "code",
   "execution_count": 7,
   "metadata": {},
   "outputs": [
    {
     "data": {
      "text/plain": [
       "{'query': 'Как потратить бонусы?',\n",
       " 'result': 'Бонусы можно использовать для покупки билетов на любое событие, указанное на сайте stoloto.ru. Бонусы не могут быть использованы для оплаты других услуг или товаров.\\nНапример, если у вас есть 1000 бонусов, то вы можете купить билет на лотерею за 1000 бонусов. Если же стоит билет на лотерею 1000 рублей, то вы можете купить его за 1000 бонусов.',\n",
       " 'source_documents': [Document(page_content='Тиражи быстрой лотереи Забава от Русского лото проходят каждые 15 минут часа', metadata={'source': './SOURCE_DOCUMENTS/answers_stoloto.txt'}),\n",
       "  Document(page_content='Чтобы изменить статус подписки, кликните на ее название «(Подписка 1, Подписка 2 и т.д.)» и нажмите «Возобновить/Приостановить», «Удалить».', metadata={'source': './SOURCE_DOCUMENTS/answers_stoloto.txt'}),\n",
       "  Document(page_content='Подробная информация о том, как получить выигрыш, доступна на странице «Как получить выигрыш».\\nВыберите способ покупки билетов на странице «Адреса точек продаж и выплат» .Подробная инструкция о покупке билетов на сайте находится на странице «Как купить билет на сайте stoloto.ru».', metadata={'source': './SOURCE_DOCUMENTS/answers_stoloto.txt'})]}"
      ]
     },
     "execution_count": 7,
     "metadata": {},
     "output_type": "execute_result"
    }
   ],
   "source": [
    "generated_text"
   ]
  }
 ],
 "metadata": {
  "kernelspec": {
   "display_name": ".venv",
   "language": "python",
   "name": "python3"
  },
  "language_info": {
   "codemirror_mode": {
    "name": "ipython",
    "version": 3
   },
   "file_extension": ".py",
   "mimetype": "text/x-python",
   "name": "python",
   "nbconvert_exporter": "python",
   "pygments_lexer": "ipython3",
   "version": "3.10.12"
  }
 },
 "nbformat": 4,
 "nbformat_minor": 2
}
